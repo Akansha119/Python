{
 "cells": [
  {
   "cell_type": "markdown",
   "id": "13770f56-6c0a-443f-adcf-ebfd92818224",
   "metadata": {},
   "source": [
    "Create a list of squares of numbers from 1 to 10."
   ]
  },
  {
   "cell_type": "code",
   "execution_count": 23,
   "id": "7d712019-817f-4fff-ba22-7e8a58f4d9e7",
   "metadata": {},
   "outputs": [
    {
     "data": {
      "text/plain": [
       "[2, 4, 6, 8, 10, 12, 14, 16, 18, 20]"
      ]
     },
     "execution_count": 23,
     "metadata": {},
     "output_type": "execute_result"
    }
   ],
   "source": [
    "b=[n*2 for n in range(1,11)]\n",
    "b"
   ]
  },
  {
   "cell_type": "markdown",
   "id": "c7da4081-6dba-47ea-b7a3-a749ecab90f3",
   "metadata": {},
   "source": [
    "Generate a list of even numbers from 1 to 20."
   ]
  },
  {
   "cell_type": "code",
   "execution_count": 27,
   "id": "317c970b-31f0-4dd8-9e2f-02c219886298",
   "metadata": {},
   "outputs": [
    {
     "data": {
      "text/plain": [
       "[2, 4, 6, 8, 10, 12, 14, 16, 18]"
      ]
     },
     "execution_count": 27,
     "metadata": {},
     "output_type": "execute_result"
    }
   ],
   "source": [
    "a=[i for i in range(1,20) if i%2==0]\n",
    "a"
   ]
  },
  {
   "cell_type": "markdown",
   "id": "fab90cdc-ff21-4c0f-8070-2e186d088e13",
   "metadata": {},
   "source": [
    "Create a list containing the first letter of each word in [\"apple\", \"banana\", \"cherry\", \"date\"]."
   ]
  },
  {
   "cell_type": "code",
   "execution_count": 33,
   "id": "b204879f-3d93-4df9-824c-97f6436e9c97",
   "metadata": {},
   "outputs": [
    {
     "data": {
      "text/plain": [
       "['a', 'b', 'c', 'd']"
      ]
     },
     "execution_count": 33,
     "metadata": {},
     "output_type": "execute_result"
    }
   ],
   "source": [
    "fruits=['apple','banana','cherry','date']\n",
    "first_letter=[i[0] for i in fruits ]\n",
    "first_letter"
   ]
  },
  {
   "cell_type": "markdown",
   "id": "7adac140-8d15-4f82-8b64-6374af4cb6db",
   "metadata": {},
   "source": [
    "Convert all words in a list to uppercase"
   ]
  },
  {
   "cell_type": "code",
   "execution_count": 39,
   "id": "d1f7abb1-d4fa-4eea-9fed-3283eac31d4e",
   "metadata": {},
   "outputs": [
    {
     "data": {
      "text/plain": [
       "['APPLE', 'BANANA', 'CHERRY', 'DATE']"
      ]
     },
     "execution_count": 39,
     "metadata": {},
     "output_type": "execute_result"
    }
   ],
   "source": [
    "a=[a.upper() for a in fruits]\n",
    "a"
   ]
  },
  {
   "cell_type": "markdown",
   "id": "80967fcf-8bf7-4699-b2a5-8f29b2e01425",
   "metadata": {},
   "source": [
    "Convert all words in a list to lowercase"
   ]
  },
  {
   "cell_type": "code",
   "execution_count": 41,
   "id": "bbbf514a-0d21-4899-b023-7d26976d8aaf",
   "metadata": {},
   "outputs": [
    {
     "data": {
      "text/plain": [
       "['apple', 'banana', 'cherry', 'date']"
      ]
     },
     "execution_count": 41,
     "metadata": {},
     "output_type": "execute_result"
    }
   ],
   "source": [
    "a=[a.lower() for a in fruits]\n",
    "a"
   ]
  },
  {
   "cell_type": "markdown",
   "id": "7d8b29f0-dbe5-4062-bee3-15d61f956c30",
   "metadata": {},
   "source": [
    "Extract numbers greater than 50 from a given list."
   ]
  },
  {
   "cell_type": "code",
   "execution_count": 55,
   "id": "c0cf05de-039a-48da-80d7-ea2703e0c90f",
   "metadata": {},
   "outputs": [
    {
     "data": {
      "text/plain": [
       "[51, 52, 53, 54, 55, 56, 57, 58, 59]"
      ]
     },
     "execution_count": 55,
     "metadata": {},
     "output_type": "execute_result"
    }
   ],
   "source": [
    "ab=[i for i in range(1,60)]\n",
    "bc=[i for i in ab if i>50]\n",
    "bc"
   ]
  },
  {
   "cell_type": "markdown",
   "id": "b21226e3-e74d-43c3-9baa-18122228e6f5",
   "metadata": {},
   "source": [
    "Create a list of cubes of even numbers between 1 and 15."
   ]
  },
  {
   "cell_type": "code",
   "execution_count": 61,
   "id": "05f558b0-b150-4aab-bbf9-4df6df372c59",
   "metadata": {},
   "outputs": [
    {
     "data": {
      "text/plain": [
       "[1, 27, 125, 343, 729, 1331, 2197, 3375]"
      ]
     },
     "execution_count": 61,
     "metadata": {},
     "output_type": "execute_result"
    }
   ],
   "source": [
    "a=[i*i*i for i in range(1,16) if i%2!=0]\n",
    "a"
   ]
  },
  {
   "cell_type": "markdown",
   "id": "0a980495-2a5a-46b3-8f51-56b64065e357",
   "metadata": {},
   "source": [
    "odd/even"
   ]
  },
  {
   "cell_type": "code",
   "execution_count": 67,
   "id": "e1d14113-2a5e-4999-a5af-b483f74d2d8c",
   "metadata": {},
   "outputs": [
    {
     "data": {
      "text/plain": [
       "[1, 3, 5, 7, 9, 11, 13, 15, 17, 19]"
      ]
     },
     "execution_count": 67,
     "metadata": {},
     "output_type": "execute_result"
    }
   ],
   "source": [
    "a=[i for i in range(1,21) if i%2==0]\n",
    "a\n",
    "b=[i for i in range(1,21) if i%2!=0]\n",
    "b"
   ]
  },
  {
   "cell_type": "markdown",
   "id": "d00bf906-8bb9-41b3-86d4-6ec6287b3419",
   "metadata": {},
   "source": [
    "Create a list of numbers divisible by 3 between 1 and 30."
   ]
  },
  {
   "cell_type": "code",
   "execution_count": 71,
   "id": "80604251-4af1-46c9-a99c-dcb4b9251464",
   "metadata": {},
   "outputs": [
    {
     "data": {
      "text/plain": [
       "[3, 6, 9, 12, 15, 18, 21, 24, 27]"
      ]
     },
     "execution_count": 71,
     "metadata": {},
     "output_type": "execute_result"
    }
   ],
   "source": [
    "three=[i for i in range(1,30) if i%3==0]\n",
    "three"
   ]
  },
  {
   "cell_type": "markdown",
   "id": "1e6130fa-3652-4e43-ae1c-85410a93eb8f",
   "metadata": {},
   "source": [
    "Create a list of numbers between 1 and 50 that are divisible by both 2 and 5."
   ]
  },
  {
   "cell_type": "code",
   "execution_count": 77,
   "id": "5fe7aceb-de13-4a65-8eb8-e2689cf61b19",
   "metadata": {},
   "outputs": [
    {
     "data": {
      "text/plain": [
       "[10, 20, 30, 40]"
      ]
     },
     "execution_count": 77,
     "metadata": {},
     "output_type": "execute_result"
    }
   ],
   "source": [
    "num=[i for i in range(1,50) if i%2==0 and i%5==0]\n",
    "num"
   ]
  },
  {
   "cell_type": "markdown",
   "id": "a1f3b647-8b87-4dc7-bd73-ea11b063b825",
   "metadata": {},
   "source": [
    "Create a list of numbers from 10 to 1 (reverse order)."
   ]
  },
  {
   "cell_type": "code",
   "execution_count": 89,
   "id": "33084470-1700-4842-bd95-63450a10a893",
   "metadata": {},
   "outputs": [
    {
     "data": {
      "text/plain": [
       "[15, 14, 13, 12, 11, 10, 9, 8, 7, 6, 5, 4, 3, 2, 1]"
      ]
     },
     "execution_count": 89,
     "metadata": {},
     "output_type": "execute_result"
    }
   ],
   "source": [
    "lis=[i for i in range(1,16)]\n",
    "lis.reverse()\n",
    "lis"
   ]
  },
  {
   "cell_type": "markdown",
   "id": "393bc633-5c55-42da-a9f3-d95f9a7af0b1",
   "metadata": {},
   "source": [
    "Create a list of squares of only even numbers between 1 and 15."
   ]
  },
  {
   "cell_type": "code",
   "execution_count": 93,
   "id": "a4bb06e5-6294-400f-9565-733784a52652",
   "metadata": {},
   "outputs": [
    {
     "data": {
      "text/plain": [
       "[1, 9, 25, 49, 81, 121, 169]"
      ]
     },
     "execution_count": 93,
     "metadata": {},
     "output_type": "execute_result"
    }
   ],
   "source": [
    "even_square=[i*i for i in range(1,15) if i%2!=0]\n",
    "even_square"
   ]
  },
  {
   "cell_type": "markdown",
   "id": "e1ad2138-5d92-4449-9679-9f93c484c388",
   "metadata": {},
   "source": [
    "Create a list of numbers between 1 and 30 that are not divisible by 3."
   ]
  },
  {
   "cell_type": "code",
   "execution_count": 97,
   "id": "32e136bb-6656-4252-8754-844de19cbcea",
   "metadata": {},
   "outputs": [
    {
     "data": {
      "text/plain": [
       "[1, 2, 4, 5, 7, 8, 10, 11, 13, 14, 16, 17, 19, 20, 22, 23, 25, 26, 28, 29]"
      ]
     },
     "execution_count": 97,
     "metadata": {},
     "output_type": "execute_result"
    }
   ],
   "source": [
    "lis=[i for i in range(1,30) if i%3!=0]\n",
    "lis"
   ]
  },
  {
   "cell_type": "code",
   "execution_count": 107,
   "id": "d1da6387-f80d-4097-bf05-2a0052ef8c34",
   "metadata": {},
   "outputs": [
    {
     "data": {
      "text/plain": [
       "['p', 'y', 't', 'h', 'o', 'n']"
      ]
     },
     "execution_count": 107,
     "metadata": {},
     "output_type": "execute_result"
    }
   ],
   "source": [
    "lis=[i for i in \"python\"]\n",
    "lis"
   ]
  },
  {
   "cell_type": "code",
   "execution_count": 109,
   "id": "c5333224-b209-4f4b-8bf5-cc0ce89aea76",
   "metadata": {},
   "outputs": [
    {
     "data": {
      "text/plain": [
       "[97, 98, 99]"
      ]
     },
     "execution_count": 109,
     "metadata": {},
     "output_type": "execute_result"
    }
   ],
   "source": [
    "ascii_values=[ord(i) for i in \"abc\"]\n",
    "ascii_values"
   ]
  },
  {
   "cell_type": "markdown",
   "id": "d13d9bdd-7765-4d67-a36c-6e9eb9baced6",
   "metadata": {},
   "source": [
    "Create a list of characters in \"education\" that are not vowels."
   ]
  },
  {
   "cell_type": "code",
   "execution_count": 141,
   "id": "c0dcede6-d7bf-47df-98b3-43c00c248138",
   "metadata": {},
   "outputs": [
    {
     "data": {
      "text/plain": [
       "['e', 'u', 'a', 'i', 'o']"
      ]
     },
     "execution_count": 141,
     "metadata": {},
     "output_type": "execute_result"
    }
   ],
   "source": [
    "vowels=[i for i in \"education\" if i in \"aeiou\"]\n",
    "vowels"
   ]
  },
  {
   "cell_type": "markdown",
   "id": "befbcab7-4d2c-4e1b-a1be-eb299e7c6b4c",
   "metadata": {},
   "source": [
    "Convert each letter of \"python\" to uppercase."
   ]
  },
  {
   "cell_type": "code",
   "execution_count": 113,
   "id": "eb929a7f-f7a1-4f0b-bb93-c98acac9e20a",
   "metadata": {},
   "outputs": [
    {
     "data": {
      "text/plain": [
       "['P', 'Y', 'T', 'H', 'O', 'N']"
      ]
     },
     "execution_count": 113,
     "metadata": {},
     "output_type": "execute_result"
    }
   ],
   "source": [
    "upper_letter=[i.upper() for i in \"python\"]\n",
    "upper_letter"
   ]
  },
  {
   "cell_type": "markdown",
   "id": "3ffc5c41-fa83-4100-900c-7d02e2d14dea",
   "metadata": {},
   "source": [
    "Convert each letter of \"python\" to lowercase."
   ]
  },
  {
   "cell_type": "code",
   "execution_count": 117,
   "id": "668fb80b-9c5a-43f3-aa56-f568fd726860",
   "metadata": {},
   "outputs": [
    {
     "data": {
      "text/plain": [
       "['p', 'y', 't', 'h', 'o', 'n']"
      ]
     },
     "execution_count": 117,
     "metadata": {},
     "output_type": "execute_result"
    }
   ],
   "source": [
    "upper_letter=[i.lower() for i in \"PYTHON\"]\n",
    "upper_letter"
   ]
  },
  {
   "cell_type": "markdown",
   "id": "cb123fc0-5e44-4c58-99cb-a33ced561e96",
   "metadata": {},
   "source": [
    "Repeat each letter of \"hi\" three times using list comprehension."
   ]
  },
  {
   "cell_type": "code",
   "execution_count": 119,
   "id": "98f7d781-68c3-433a-845f-aea5b5354d9a",
   "metadata": {},
   "outputs": [
    {
     "data": {
      "text/plain": [
       "['hhh', 'iii']"
      ]
     },
     "execution_count": 119,
     "metadata": {},
     "output_type": "execute_result"
    }
   ],
   "source": [
    "hi=[i*3 for i in \"hi\"]\n",
    "hi"
   ]
  },
  {
   "cell_type": "markdown",
   "id": "f261df89-30de-44c1-9655-aa22900bce1d",
   "metadata": {},
   "source": [
    "Create a list of words from \"Python is fun\" by splitting it."
   ]
  },
  {
   "cell_type": "code",
   "execution_count": 123,
   "id": "53b589ab-27c9-4b9e-a18f-e57ebb49058d",
   "metadata": {},
   "outputs": [
    {
     "data": {
      "text/plain": [
       "['Python', 'is', 'fun']"
      ]
     },
     "execution_count": 123,
     "metadata": {},
     "output_type": "execute_result"
    }
   ],
   "source": [
    "spliting=[i for i in \"Python is fun\".split()]\n",
    "spliting"
   ]
  },
  {
   "cell_type": "markdown",
   "id": "80c4f32e-3185-4ac1-81c1-7d813996f5c4",
   "metadata": {},
   "source": [
    "Convert each word in \"Python is fun\" to uppercase."
   ]
  },
  {
   "cell_type": "code",
   "execution_count": 127,
   "id": "70fc5f72-6356-4026-a1cf-51ec220c01af",
   "metadata": {},
   "outputs": [
    {
     "data": {
      "text/plain": [
       "['PYTHON', 'IS', 'FUN']"
      ]
     },
     "execution_count": 127,
     "metadata": {},
     "output_type": "execute_result"
    }
   ],
   "source": [
    "upper=[i.upper() for i in \"Python is fun\".split()]\n",
    "upper"
   ]
  },
  {
   "cell_type": "markdown",
   "id": "53bf75e9-0d60-47ec-8a77-937ee110b7ed",
   "metadata": {},
   "source": [
    "Create a list of the lengths of words in [\"apple\", \"banana\", \"kiwi\", \"mango\"]."
   ]
  },
  {
   "cell_type": "code",
   "execution_count": 139,
   "id": "af1850e0-c250-4b1b-bdde-ecfa277db370",
   "metadata": {},
   "outputs": [
    {
     "data": {
      "text/plain": [
       "[5, 6, 4, 5]"
      ]
     },
     "execution_count": 139,
     "metadata": {},
     "output_type": "execute_result"
    }
   ],
   "source": [
    "fruits=[len(i) for i in['apple','banana','kiwi','mango']]\n",
    "fruits"
   ]
  },
  {
   "cell_type": "code",
   "execution_count": 145,
   "id": "0ccff059-2b4a-4e87-b6e9-c780060e822c",
   "metadata": {},
   "outputs": [
    {
     "data": {
      "text/plain": [
       "['C']"
      ]
     },
     "execution_count": 145,
     "metadata": {},
     "output_type": "execute_result"
    }
   ],
   "source": [
    "capital=[i for i in \"Comprehension\" if i.isupper()]\n",
    "capital"
   ]
  },
  {
   "cell_type": "code",
   "execution_count": null,
   "id": "a7dd70f1-1a73-424e-8fe4-bdfb81f56010",
   "metadata": {},
   "outputs": [],
   "source": []
  }
 ],
 "metadata": {
  "kernelspec": {
   "display_name": "Python [conda env:base] *",
   "language": "python",
   "name": "conda-base-py"
  },
  "language_info": {
   "codemirror_mode": {
    "name": "ipython",
    "version": 3
   },
   "file_extension": ".py",
   "mimetype": "text/x-python",
   "name": "python",
   "nbconvert_exporter": "python",
   "pygments_lexer": "ipython3",
   "version": "3.12.7"
  }
 },
 "nbformat": 4,
 "nbformat_minor": 5
}
