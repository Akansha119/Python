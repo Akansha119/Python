{
 "cells": [
  {
   "cell_type": "markdown",
   "id": "9af20118",
   "metadata": {},
   "source": [
    "The Open Brewery DB API offers detailed data on various breweries across the United States. \n",
    "\n",
    "--\n",
    "\n",
    "### Task 1: Fetch Brewery Data for Non-alcoholic Drink manufacturer - US client\n",
    "\n",
    "**Scenario:**\n",
    "\n",
    "As Tony Sharma mentioned during the call, he needs details about all the breweries in a specific state.\n",
    "\n",
    "Your task is to use the Open Brewery DB API to fetch and display brewery details based on a given state, which will be helpful for his client call tomorrow.\n",
    "\n",
    "**Write a Python program that:**\n",
    "\n",
    "1. Uses the `requests` library to call the Open Brewery DB API to fetch brewery data based on a given state.\n",
    "2. Parses the JSON response.\n",
    "3. Extracts and displays the name, type, and location (city) of each brewery.\n",
    "4. Handles errors gracefully (e.g., network issues or invalid API requests).\n",
    "\n",
    "Example URL for Texas Breweries: `https://api.openbrewerydb.org/v1/breweries?by_state=california&per_page=3`"
   ]
  },
  {
   "cell_type": "code",
   "execution_count": 9,
   "id": "fb8e0c48",
   "metadata": {},
   "outputs": [
    {
     "name": "stdout",
     "output_type": "stream",
     "text": [
      "Name: 10 Barrel Brewing Co\n",
      "Brew_type:N/A\n",
      "Location: San Diego\n",
      "------------------------------\n",
      "Name: 101 North Brewing Company\n",
      "Brew_type:N/A\n",
      "Location: Petaluma\n",
      "------------------------------\n",
      "Name: 14 Cannons Brewing Company\n",
      "Brew_type:N/A\n",
      "Location: Westlake Village\n",
      "------------------------------\n"
     ]
    }
   ],
   "source": [
    "# write your code here\n",
    "import requests\n",
    "import json\n",
    "def brew_record():\n",
    "    url=\"https://api.openbrewerydb.org/v1/breweries?by_state=california&per_page=3\"\n",
    "    try:\n",
    "        response=requests.get(url)\n",
    "        brew=response.json()\n",
    "        for i in brew:\n",
    "            print(f\"Name: {i.get('name','N/A')}\")\n",
    "            print(f\"Brew_type:{ i.get('brew_type','N/A')}\")\n",
    "            print(f\"Location: {i.get('city','N/A')}\")\n",
    "            print(\"-\"*30)\n",
    "    except:\n",
    "        print(\"failed to load\")\n",
    "brew_record()\n"
   ]
  },
  {
   "cell_type": "markdown",
   "id": "d7533165",
   "metadata": {},
   "source": [
    "\n",
    "JSONPlaceholder offers a set of APIs for typical CRUD (Create, Read, Update, Delete) operations, making it an excellent resource for learning and testing HTTP requests.\n",
    "\n",
    "--\n",
    "\n",
    "### Task 2: Fetch User Data for AtliQ Client Project\n",
    "\n",
    "**Scenario:** As a quick favor, Loki shared an ad-hoc task with you. He needs help with a user profile component for an Atliq client application, using JSONPlaceholder to simulate fetching user data.\n",
    "\n",
    "**Objective:** Create a function `fetch_user_data` that uses JSONPlaceholder’s API to retrieve and format user details.\n",
    "\n",
    "**Steps:**\n",
    "\n",
    "1. Fetch user data from JSONPlaceholder.\n",
    "2. Format the data to include 'name', 'email', and 'address'.\n",
    "3. Return the data as a dictionary.\n",
    "\n",
    "**Expected Output:**\n",
    "\n",
    "```\n",
    "{\n",
    "    'name': 'Leanne Graham',\n",
    "    'email': 'Sincere@april.biz',\n",
    "    'address': 'Kulas Light, Gwenborough'\n",
    "}\n",
    "\n",
    "\n",
    "\n",
    "```"
   ]
  },
  {
   "cell_type": "code",
   "execution_count": 115,
   "id": "1517f8a2-4c7d-40eb-904e-cfe0bedcee8a",
   "metadata": {},
   "outputs": [
    {
     "name": "stdout",
     "output_type": "stream",
     "text": [
      "{1: {'name': 'Leanne Graham', 'email': 'Sincere@april.biz', 'address': \"({'street': 'Kulas Light', 'suite': 'Apt. 556', 'city': 'Gwenborough', 'zipcode': '92998-3874', 'geo': {'lat': '-37.3159', 'lng': '81.1496'}}, ['street']),Gwenborough\"}, 2: {'name': 'Ervin Howell', 'email': 'Shanna@melissa.tv', 'address': \"({'street': 'Victor Plains', 'suite': 'Suite 879', 'city': 'Wisokyburgh', 'zipcode': '90566-7771', 'geo': {'lat': '-43.9509', 'lng': '-34.4618'}}, ['street']),Wisokyburgh\"}, 3: {'name': 'Clementine Bauch', 'email': 'Nathan@yesenia.net', 'address': \"({'street': 'Douglas Extension', 'suite': 'Suite 847', 'city': 'McKenziehaven', 'zipcode': '59590-4157', 'geo': {'lat': '-68.6102', 'lng': '-47.0653'}}, ['street']),McKenziehaven\"}, 4: {'name': 'Patricia Lebsack', 'email': 'Julianne.OConner@kory.org', 'address': \"({'street': 'Hoeger Mall', 'suite': 'Apt. 692', 'city': 'South Elvis', 'zipcode': '53919-4257', 'geo': {'lat': '29.4572', 'lng': '-164.2990'}}, ['street']),South Elvis\"}, 5: {'name': 'Chelsey Dietrich', 'email': 'Lucio_Hettinger@annie.ca', 'address': \"({'street': 'Skiles Walks', 'suite': 'Suite 351', 'city': 'Roscoeview', 'zipcode': '33263', 'geo': {'lat': '-31.8129', 'lng': '62.5342'}}, ['street']),Roscoeview\"}, 6: {'name': 'Mrs. Dennis Schulist', 'email': 'Karley_Dach@jasper.info', 'address': \"({'street': 'Norberto Crossing', 'suite': 'Apt. 950', 'city': 'South Christy', 'zipcode': '23505-1337', 'geo': {'lat': '-71.4197', 'lng': '71.7478'}}, ['street']),South Christy\"}, 7: {'name': 'Kurtis Weissnat', 'email': 'Telly.Hoeger@billy.biz', 'address': \"({'street': 'Rex Trail', 'suite': 'Suite 280', 'city': 'Howemouth', 'zipcode': '58804-1099', 'geo': {'lat': '24.8918', 'lng': '21.8984'}}, ['street']),Howemouth\"}, 8: {'name': 'Nicholas Runolfsdottir V', 'email': 'Sherwood@rosamond.me', 'address': \"({'street': 'Ellsworth Summit', 'suite': 'Suite 729', 'city': 'Aliyaview', 'zipcode': '45169', 'geo': {'lat': '-14.3990', 'lng': '-120.7677'}}, ['street']),Aliyaview\"}, 9: {'name': 'Glenna Reichert', 'email': 'Chaim_McDermott@dana.io', 'address': \"({'street': 'Dayna Park', 'suite': 'Suite 449', 'city': 'Bartholomebury', 'zipcode': '76495-3109', 'geo': {'lat': '24.6463', 'lng': '-168.8889'}}, ['street']),Bartholomebury\"}, 10: {'name': 'Clementina DuBuque', 'email': 'Rey.Padberg@karina.biz', 'address': \"({'street': 'Kattie Turnpike', 'suite': 'Suite 198', 'city': 'Lebsackbury', 'zipcode': '31428-2261', 'geo': {'lat': '-38.2386', 'lng': '57.2232'}}, ['street']),Lebsackbury\"}}\n"
     ]
    }
   ],
   "source": [
    "# write your code here\n",
    "import requests\n",
    "import json\n",
    "def fetch_users():\n",
    "    url=\"https://jsonplaceholder.typicode.com/users\"\n",
    "    try:\n",
    "        response=requests.get(url)\n",
    "        response.raise_for_status()\n",
    "        users=response.json()\n",
    "        #users\n",
    "\n",
    "        clear_data={}\n",
    "        \n",
    "        for user in users:\n",
    "            user_id=user.get(\"id\")\n",
    "            clear_data[user_id]={\n",
    "                \"name\":user.get('name','na'),\n",
    "                \"email\":user.get('email','na'),\n",
    "                \"address\":f\"{user['address'],['street']},{user['address']['city']}\"\n",
    "            }\n",
    "        return clear_data\n",
    "    except Exception as e:\n",
    "        print(\"Error:\", e)\n",
    "        return {}\n",
    "\n",
    "data=fetch_users()\n",
    "print(data)"
   ]
  },
  {
   "cell_type": "code",
   "execution_count": null,
   "id": "5143886a-3227-47f9-b84b-f80e22e21c7b",
   "metadata": {},
   "outputs": [],
   "source": []
  }
 ],
 "metadata": {
  "kernelspec": {
   "display_name": "Python [conda env:base] *",
   "language": "python",
   "name": "conda-base-py"
  },
  "language_info": {
   "codemirror_mode": {
    "name": "ipython",
    "version": 3
   },
   "file_extension": ".py",
   "mimetype": "text/x-python",
   "name": "python",
   "nbconvert_exporter": "python",
   "pygments_lexer": "ipython3",
   "version": "3.12.7"
  }
 },
 "nbformat": 4,
 "nbformat_minor": 5
}
